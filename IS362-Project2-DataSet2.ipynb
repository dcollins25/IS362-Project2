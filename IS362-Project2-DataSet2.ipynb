{
 "cells": [
  {
   "cell_type": "code",
   "execution_count": 1,
   "id": "70f308b5",
   "metadata": {},
   "outputs": [],
   "source": [
    "# Dan Collins - IS362 - Project 2 - Untidy Data Set # 2"
   ]
  },
  {
   "cell_type": "code",
   "execution_count": 2,
   "id": "e2fead8a",
   "metadata": {},
   "outputs": [],
   "source": [
    "# Untidy Data Set 2 - Jazz-Musicians.csv file"
   ]
  },
  {
   "cell_type": "code",
   "execution_count": 3,
   "id": "71fd446f",
   "metadata": {},
   "outputs": [],
   "source": [
    "import pandas as pd"
   ]
  },
  {
   "cell_type": "code",
   "execution_count": 4,
   "id": "6024f6fe",
   "metadata": {},
   "outputs": [],
   "source": [
    "# Change to the directory where the .csv files are"
   ]
  },
  {
   "cell_type": "code",
   "execution_count": 11,
   "id": "619d5c55",
   "metadata": {},
   "outputs": [],
   "source": [
    "import os"
   ]
  },
  {
   "cell_type": "code",
   "execution_count": 6,
   "id": "2aa5ebb6",
   "metadata": {},
   "outputs": [],
   "source": [
    "new_directory = r'C:\\Users\\dmcol\\Documents\\GitWork\\IS362-Project2'"
   ]
  },
  {
   "cell_type": "code",
   "execution_count": 7,
   "id": "fe1f9ecf",
   "metadata": {},
   "outputs": [],
   "source": [
    "os.chdir(new_directory)"
   ]
  },
  {
   "cell_type": "code",
   "execution_count": 8,
   "id": "799aed16",
   "metadata": {},
   "outputs": [],
   "source": [
    "# Read the file into a pandas dataframe"
   ]
  },
  {
   "cell_type": "code",
   "execution_count": 9,
   "id": "780869a3",
   "metadata": {},
   "outputs": [],
   "source": [
    "df = pd.read_csv('Jazz-Musicians.csv')"
   ]
  },
  {
   "cell_type": "code",
   "execution_count": 10,
   "id": "0ce8a7df",
   "metadata": {},
   "outputs": [],
   "source": [
    "# Rename the columns to be more clear"
   ]
  },
  {
   "cell_type": "code",
   "execution_count": 17,
   "id": "0ca3082b",
   "metadata": {},
   "outputs": [],
   "source": [
    "df.columns = ['Name', 'Instrument', 'Alive', 'Current_Age', 'Age_At_Death', 'Num_Studio_Albums']"
   ]
  },
  {
   "cell_type": "code",
   "execution_count": 13,
   "id": "639c012a",
   "metadata": {},
   "outputs": [],
   "source": [
    "# Melt the dataframe to create a tidy format"
   ]
  },
  {
   "cell_type": "code",
   "execution_count": 20,
   "id": "d469096c",
   "metadata": {},
   "outputs": [],
   "source": [
    "tidy_df = pd.melt(df, id_vars=['Name', 'Instrument', 'Alive'],\n",
    "                  value_vars=['Current_Age', 'Age_At_Death', 'Num_Studio_Albums'],\n",
    "                  var_name='Attribute', value_name='Value')"
   ]
  },
  {
   "cell_type": "code",
   "execution_count": 21,
   "id": "16933355",
   "metadata": {},
   "outputs": [],
   "source": [
    "# Replace the empty columns (which produce NaN values in the resulting tidy dataframe) with \"not applicable\""
   ]
  },
  {
   "cell_type": "code",
   "execution_count": 22,
   "id": "58356f0e",
   "metadata": {},
   "outputs": [],
   "source": [
    "tidy_df = tidy_df.fillna('not applicable')"
   ]
  },
  {
   "cell_type": "code",
   "execution_count": 15,
   "id": "da1db0a1",
   "metadata": {},
   "outputs": [],
   "source": [
    "# Print the tidy DataFrame"
   ]
  },
  {
   "cell_type": "code",
   "execution_count": 23,
   "id": "c7fe9c26",
   "metadata": {},
   "outputs": [
    {
     "name": "stdout",
     "output_type": "stream",
     "text": [
      "               Name Instrument Alive          Attribute           Value\n",
      "0       MILES DAVIS    trumpet    No        Current_Age  not applicable\n",
      "1     JOHN COLTRANE  saxophone    No        Current_Age  not applicable\n",
      "2    JACO PASTORIUS       bass    No        Current_Age  not applicable\n",
      "3     WAYNE SHORTER  saxophone    No        Current_Age  not applicable\n",
      "4        RON CARTER       bass   Yes        Current_Age            86.0\n",
      "5         MAX R0ACH      drums    No        Current_Age  not applicable\n",
      "6   DIZZY GILLESPIE    trumpet    No        Current_Age  not applicable\n",
      "7    HERBIE HANCOCK      piano   Yes        Current_Age            83.0\n",
      "8    DUKE ELLINGTON      piano    No        Current_Age  not applicable\n",
      "9       Elvin Jones      drums    No        Current_Age  not applicable\n",
      "10      MILES DAVIS    trumpet    No       Age_At_Death            65.0\n",
      "11    JOHN COLTRANE  saxophone    No       Age_At_Death            40.0\n",
      "12   JACO PASTORIUS       bass    No       Age_At_Death            35.0\n",
      "13    WAYNE SHORTER  saxophone    No       Age_At_Death            89.0\n",
      "14       RON CARTER       bass   Yes       Age_At_Death  not applicable\n",
      "15        MAX R0ACH      drums    No       Age_At_Death            83.0\n",
      "16  DIZZY GILLESPIE    trumpet    No       Age_At_Death            75.0\n",
      "17   HERBIE HANCOCK      piano   Yes       Age_At_Death  not applicable\n",
      "18   DUKE ELLINGTON      piano    No       Age_At_Death            75.0\n",
      "19      Elvin Jones      drums    No       Age_At_Death            76.0\n",
      "20      MILES DAVIS    trumpet    No  Num_Studio_Albums            60.0\n",
      "21    JOHN COLTRANE  saxophone    No  Num_Studio_Albums            45.0\n",
      "22   JACO PASTORIUS       bass    No  Num_Studio_Albums             1.0\n",
      "23    WAYNE SHORTER  saxophone    No  Num_Studio_Albums            20.0\n",
      "24       RON CARTER       bass   Yes  Num_Studio_Albums             2.0\n",
      "25        MAX R0ACH      drums    No  Num_Studio_Albums             0.0\n",
      "26  DIZZY GILLESPIE    trumpet    No  Num_Studio_Albums           106.0\n",
      "27   HERBIE HANCOCK      piano   Yes  Num_Studio_Albums            41.0\n",
      "28   DUKE ELLINGTON      piano    No  Num_Studio_Albums           200.0\n",
      "29      Elvin Jones      drums    No  Num_Studio_Albums             0.0\n"
     ]
    }
   ],
   "source": [
    "print(tidy_df)"
   ]
  },
  {
   "cell_type": "code",
   "execution_count": null,
   "id": "0e6e15fd",
   "metadata": {},
   "outputs": [],
   "source": []
  }
 ],
 "metadata": {
  "kernelspec": {
   "display_name": "Python 3 (ipykernel)",
   "language": "python",
   "name": "python3"
  },
  "language_info": {
   "codemirror_mode": {
    "name": "ipython",
    "version": 3
   },
   "file_extension": ".py",
   "mimetype": "text/x-python",
   "name": "python",
   "nbconvert_exporter": "python",
   "pygments_lexer": "ipython3",
   "version": "3.9.13"
  }
 },
 "nbformat": 4,
 "nbformat_minor": 5
}
