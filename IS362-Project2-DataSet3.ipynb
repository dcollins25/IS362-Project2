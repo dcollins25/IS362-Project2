{
 "cells": [
  {
   "cell_type": "code",
   "execution_count": 1,
   "id": "2cba8e14",
   "metadata": {},
   "outputs": [],
   "source": [
    "# Dan Collins - IS362 - Project 2 - Untidy Data Set # 3"
   ]
  },
  {
   "cell_type": "code",
   "execution_count": 2,
   "id": "9f0c71ed",
   "metadata": {},
   "outputs": [],
   "source": [
    "# Untidy Data Set 3 - Car-Models.csv file"
   ]
  },
  {
   "cell_type": "code",
   "execution_count": 3,
   "id": "3abe63d4",
   "metadata": {},
   "outputs": [],
   "source": [
    "import pandas as pd"
   ]
  },
  {
   "cell_type": "code",
   "execution_count": 4,
   "id": "b9f63731",
   "metadata": {},
   "outputs": [],
   "source": [
    "# Change to the directory where the .csv files are"
   ]
  },
  {
   "cell_type": "code",
   "execution_count": 5,
   "id": "c7e6a83b",
   "metadata": {},
   "outputs": [],
   "source": [
    "import os"
   ]
  },
  {
   "cell_type": "code",
   "execution_count": 6,
   "id": "20f57d88",
   "metadata": {},
   "outputs": [],
   "source": [
    "new_directory = r'C:\\Users\\dmcol\\Documents\\GitWork\\IS362-Project2'"
   ]
  },
  {
   "cell_type": "code",
   "execution_count": 7,
   "id": "e959700b",
   "metadata": {},
   "outputs": [],
   "source": [
    "os.chdir(new_directory)"
   ]
  },
  {
   "cell_type": "code",
   "execution_count": 8,
   "id": "a09b7a3c",
   "metadata": {},
   "outputs": [],
   "source": [
    "# Read the file into a pandas dataframe"
   ]
  },
  {
   "cell_type": "code",
   "execution_count": 9,
   "id": "1471b818",
   "metadata": {},
   "outputs": [],
   "source": [
    "df = pd.read_csv('Car-Models.csv')"
   ]
  },
  {
   "cell_type": "code",
   "execution_count": 10,
   "id": "e4411954",
   "metadata": {},
   "outputs": [],
   "source": [
    "# Rename the columns to be clearer"
   ]
  },
  {
   "cell_type": "code",
   "execution_count": 11,
   "id": "6c6b75d5",
   "metadata": {},
   "outputs": [],
   "source": [
    "df.columns = ['CAR MODEL', 'MANUFACTURER', 'TYPE', 'NUM PASSENGERS', 'RATING']"
   ]
  },
  {
   "cell_type": "code",
   "execution_count": 12,
   "id": "263194bd",
   "metadata": {},
   "outputs": [],
   "source": [
    "# Melt the DataFrame to make it tidy"
   ]
  },
  {
   "cell_type": "code",
   "execution_count": 16,
   "id": "05c3c251",
   "metadata": {},
   "outputs": [],
   "source": [
    "tidy_df = df.melt(id_vars=['CAR MODEL', 'MANUFACTURER', 'TYPE'],\n",
    "                    value_vars=['NUM PASSENGERS', 'RATING'],\n",
    "                    var_name='ATTRIBUTE',\n",
    "                    value_name='VALUE')"
   ]
  },
  {
   "cell_type": "code",
   "execution_count": 14,
   "id": "4b538ec0",
   "metadata": {},
   "outputs": [],
   "source": [
    "# Print the tidy data"
   ]
  },
  {
   "cell_type": "code",
   "execution_count": 17,
   "id": "cf3ae156",
   "metadata": {},
   "outputs": [
    {
     "name": "stdout",
     "output_type": "stream",
     "text": [
      "   CAR MODEL MANUFACTURER   TYPE       ATTRIBUTE  VALUE\n",
      "0    Odyssey        Honda    SUV  NUM PASSENGERS    8.0\n",
      "1  Forrester       Subaru    SUV  NUM PASSENGERS    5.0\n",
      "2      Civic        Honda  Sedan  NUM PASSENGERS    5.0\n",
      "3   Traverse    Chevrolet    SUV  NUM PASSENGERS    7.0\n",
      "4        CT5     Cadillac  Sedan  NUM PASSENGERS    5.0\n",
      "5    Odyssey        Honda    SUV          RATING    9.0\n",
      "6  Forrester       Subaru    SUV          RATING    8.2\n",
      "7      Civic        Honda  Sedan          RATING   10.0\n",
      "8   Traverse    Chevrolet    SUV          RATING    8.3\n",
      "9        CT5     Cadillac  Sedan          RATING    6.5\n"
     ]
    }
   ],
   "source": [
    "print(tidy_df)"
   ]
  }
 ],
 "metadata": {
  "kernelspec": {
   "display_name": "Python 3 (ipykernel)",
   "language": "python",
   "name": "python3"
  },
  "language_info": {
   "codemirror_mode": {
    "name": "ipython",
    "version": 3
   },
   "file_extension": ".py",
   "mimetype": "text/x-python",
   "name": "python",
   "nbconvert_exporter": "python",
   "pygments_lexer": "ipython3",
   "version": "3.9.13"
  }
 },
 "nbformat": 4,
 "nbformat_minor": 5
}
