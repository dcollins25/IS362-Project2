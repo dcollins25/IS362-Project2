{
 "cells": [
  {
   "cell_type": "code",
   "execution_count": 2,
   "id": "abb889b6",
   "metadata": {},
   "outputs": [],
   "source": [
    "# Dan Collins - IS362 - Project 2 - Untidy Data Set # 1"
   ]
  },
  {
   "cell_type": "code",
   "execution_count": null,
   "id": "969683ce",
   "metadata": {},
   "outputs": [],
   "source": [
    "# Untidy Data Set 1 - Phone Systems .csv file"
   ]
  },
  {
   "cell_type": "code",
   "execution_count": 14,
   "id": "f07e03c5",
   "metadata": {},
   "outputs": [],
   "source": [
    "import pandas as pd"
   ]
  },
  {
   "cell_type": "code",
   "execution_count": 7,
   "id": "abb33d88",
   "metadata": {},
   "outputs": [],
   "source": [
    "# Change to the directory where the .csv files are"
   ]
  },
  {
   "cell_type": "code",
   "execution_count": 15,
   "id": "5486a5e8",
   "metadata": {},
   "outputs": [],
   "source": [
    "import os"
   ]
  },
  {
   "cell_type": "code",
   "execution_count": 18,
   "id": "cbab9b6a",
   "metadata": {},
   "outputs": [],
   "source": [
    "new_directory = r'C:\\Users\\dmcol\\Documents\\GitWork\\IS362-Project2'"
   ]
  },
  {
   "cell_type": "code",
   "execution_count": 19,
   "id": "4a697111",
   "metadata": {},
   "outputs": [],
   "source": [
    "os.chdir(new_directory)"
   ]
  },
  {
   "cell_type": "code",
   "execution_count": 13,
   "id": "6efc0d59",
   "metadata": {},
   "outputs": [],
   "source": [
    "# Read the file into a pandas dataframe"
   ]
  },
  {
   "cell_type": "code",
   "execution_count": 20,
   "id": "425dab40",
   "metadata": {},
   "outputs": [],
   "source": [
    "df = pd.read_csv('Phone-Systems.csv')"
   ]
  },
  {
   "cell_type": "code",
   "execution_count": 21,
   "id": "2b4097f7",
   "metadata": {},
   "outputs": [],
   "source": [
    "# Rename columns to clean it up a bit"
   ]
  },
  {
   "cell_type": "code",
   "execution_count": 38,
   "id": "932d63d3",
   "metadata": {},
   "outputs": [],
   "source": [
    "df.columns = ['Phone_System', 'Manufacturer', 'Market_Share_Percentage', 'Customer_Rating',\n",
    "              'Cost_Per_1000', 'Age_of_Product_Years', 'Avg_Maintenance_Cost']"
   ]
  },
  {
   "cell_type": "code",
   "execution_count": 31,
   "id": "9c2533f4",
   "metadata": {},
   "outputs": [],
   "source": [
    "# Melt the DataFrame to convert it to tidy format"
   ]
  },
  {
   "cell_type": "code",
   "execution_count": 32,
   "id": "f0c32af3",
   "metadata": {},
   "outputs": [],
   "source": [
    "tidy_df = pd.melt(df, id_vars=['Phone_System', 'Manufacturer'],\n",
    "                  value_vars=['Market_Share_Percentage', 'Customer_Rating',\n",
    "                              'Cost_Per_1000', 'Age_of_Product_Years', 'Avg_Maintenance_Cost'],\n",
    "                  var_name='Attribute', value_name='Value')"
   ]
  },
  {
   "cell_type": "code",
   "execution_count": null,
   "id": "4d53ae58",
   "metadata": {},
   "outputs": [],
   "source": [
    "# Print the tidy DataFrame"
   ]
  },
  {
   "cell_type": "code",
   "execution_count": 47,
   "id": "8ee228e6",
   "metadata": {},
   "outputs": [
    {
     "name": "stdout",
     "output_type": "stream",
     "text": [
      "   Phone_System Manufacturer                Attribute    Value\n",
      "0          CUCM        Cisco  Market_Share_Percentage     23.0\n",
      "1   Teams Phone    Microsoft  Market_Share_Percentage     21.0\n",
      "2   RingCentral  RingCentral  Market_Share_Percentage     27.0\n",
      "3          Aura        Avaya  Market_Share_Percentage      7.0\n",
      "4    Zoom Phone         Zoom  Market_Share_Percentage      7.0\n",
      "5      Vodafone     Vodafone  Market_Share_Percentage      3.0\n",
      "6          CUCM        Cisco          Customer_Rating      3.5\n",
      "7   Teams Phone    Microsoft          Customer_Rating      3.7\n",
      "8   RingCentral  RingCentral          Customer_Rating      4.0\n",
      "9          Aura        Avaya          Customer_Rating      2.3\n",
      "10   Zoom Phone         Zoom          Customer_Rating      2.1\n",
      "11     Vodafone     Vodafone          Customer_Rating      2.1\n",
      "12         CUCM        Cisco            Cost_Per_1000  75000.0\n",
      "13  Teams Phone    Microsoft            Cost_Per_1000  45000.0\n",
      "14  RingCentral  RingCentral            Cost_Per_1000  37500.0\n",
      "15         Aura        Avaya            Cost_Per_1000  33000.0\n",
      "16   Zoom Phone         Zoom            Cost_Per_1000  35000.0\n",
      "17     Vodafone     Vodafone            Cost_Per_1000  21000.0\n",
      "18         CUCM        Cisco     Age_of_Product_Years     18.0\n",
      "19  Teams Phone    Microsoft     Age_of_Product_Years      2.0\n",
      "20  RingCentral  RingCentral     Age_of_Product_Years     24.0\n",
      "21         Aura        Avaya     Age_of_Product_Years     21.0\n",
      "22   Zoom Phone         Zoom     Age_of_Product_Years      4.0\n",
      "23     Vodafone     Vodafone     Age_of_Product_Years     38.0\n",
      "24         CUCM        Cisco     Avg_Maintenance_Cost  20000.0\n",
      "25  Teams Phone    Microsoft     Avg_Maintenance_Cost  10000.0\n",
      "26  RingCentral  RingCentral     Avg_Maintenance_Cost  12000.0\n",
      "27         Aura        Avaya     Avg_Maintenance_Cost   8500.0\n",
      "28   Zoom Phone         Zoom     Avg_Maintenance_Cost   9000.0\n",
      "29     Vodafone     Vodafone     Avg_Maintenance_Cost   4500.0\n"
     ]
    }
   ],
   "source": [
    "print(tidy_df)"
   ]
  }
 ],
 "metadata": {
  "kernelspec": {
   "display_name": "Python 3 (ipykernel)",
   "language": "python",
   "name": "python3"
  },
  "language_info": {
   "codemirror_mode": {
    "name": "ipython",
    "version": 3
   },
   "file_extension": ".py",
   "mimetype": "text/x-python",
   "name": "python",
   "nbconvert_exporter": "python",
   "pygments_lexer": "ipython3",
   "version": "3.9.13"
  }
 },
 "nbformat": 4,
 "nbformat_minor": 5
}
